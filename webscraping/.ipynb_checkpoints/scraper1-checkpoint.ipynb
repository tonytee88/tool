{
 "cells": [
  {
   "cell_type": "code",
   "execution_count": 61,
   "id": "0f8b385c",
   "metadata": {},
   "outputs": [],
   "source": [
    "from selenium import webdriver\n",
    "from selenium.webdriver.chrome.service import Service\n",
    "from webdriver_manager.chrome import ChromeDriverManager\n",
    "from selenium.webdriver.common.by import By\n",
    "import requests\n",
    "\n",
    "driver = webdriver.Chrome(service=Service(ChromeDriverManager().install()))\n",
    "driver.get(\"https://go.mydressin.shop/liste-vip/\")"
   ]
  },
  {
   "cell_type": "code",
   "execution_count": 62,
   "id": "c5656c33",
   "metadata": {},
   "outputs": [],
   "source": [
    "from selenium.webdriver.common.by import By\n",
    "\n",
    "username = driver.find_element(By.XPATH, \"//*[contains(@id, 'first_name')]\")\n",
    "username.send_keys(\"test tony\")\n",
    "\n",
    "username = driver.find_element(By.XPATH, \"//*[contains(@id, 'last_name')]\")\n",
    "username.send_keys(\"test tran\")\n",
    "\n",
    "username = driver.find_element(By.XPATH, \"//*[contains(@id, 'email')]\")\n",
    "username.send_keys(\"tony_testbot@j7media.com\")\n",
    "\n",
    "submit_button = driver.find_element(By.XPATH, \"//*[contains(@class, 'kl-private-reset-css')][@type='button']\" )\n",
    "submit_button.click()\n",
    "\n",
    "# button class kl-private-reset-css\n",
    "# tony_testbot@j7media.com"
   ]
  },
  {
   "cell_type": "code",
   "execution_count": null,
   "id": "e97e11b2",
   "metadata": {},
   "outputs": [],
   "source": [
    "import requests\n",
    "\n",
    "url = \"https://a.klaviyo.com/api/profiles/\"\n",
    "\n",
    "headers = {\n",
    "    \"accept\": \"application/json\",\n",
    "    \"revision\": \"2022-10-17\",\n",
    "    \"Authorization\": \"Klaviyo-API-Key your-private-api-key\"\n",
    "}\n",
    "\n",
    "response = requests.get(url, headers=headers)"
   ]
  },
  {
   "cell_type": "code",
   "execution_count": 380,
   "id": "14259181",
   "metadata": {},
   "outputs": [],
   "source": [
    "import requests\n",
    "import json\n",
    "\n",
    "# get correct api\n",
    "tonyApi = \"pk_b3675a55997274f8176a414c13bc504467\"\n",
    "\n",
    "\n",
    "# get project number (Asana)\n",
    "#\n",
    "#\n",
    "#\n",
    "#\n",
    "projectNumber = \"ewslet\"\n",
    "#\n",
    "#\n",
    "#\n",
    "#\n",
    "# get landing page\n",
    "# get email test\n",
    "emailTest = \"tony+testbot2@j7media.com\"\n",
    "\n",
    "\n",
    "#find profile_id_string\n",
    "url = \"https://a.klaviyo.com/api/profiles/\"\n",
    "\n",
    "headers = {\n",
    "    \"accept\": \"application/json\",\n",
    "    \"revision\": \"2022-10-17\",\n",
    "    \"Authorization\": f\"Klaviyo-API-Key {tonyApi}\"\n",
    "}\n",
    "\n",
    "profile_id = requests.get(url, headers=headers)\n",
    "\n",
    "profile_id_dict = profile_id.json()\n",
    "\n",
    "for value in profile_id_dict[\"data\"]:\n",
    "    if value[\"attributes\"][\"email\"] == emailTest:\n",
    "        testProfileId = value[\"id\"]\n",
    "\n",
    "    \n",
    "# def getpath(nested_dict, value, prepath=()):\n",
    "#     for k, v in nested_dict.items():\n",
    "#         path = prepath + (k,)\n",
    "#         if v == value: # found value\n",
    "#             return path\n",
    "#         elif hasattr(v, 'items'): # v is a dict\n",
    "#             p = getpath(v, value, path) # recursive call\n",
    "#             if p is not None:\n",
    "#                 return p\n",
    "            \n",
    "# print(getpath(mydata, \"https://a.klaviyo.com/api/profiles/01GPKVQH85JZ87B23D6H0QXHSM/relationships/lists/\"))\n"
   ]
  },
  {
   "cell_type": "code",
   "execution_count": 381,
   "id": "1f101496",
   "metadata": {},
   "outputs": [
    {
     "name": "stdout",
     "output_type": "stream",
     "text": [
      "['Preview List', 'Newsletter']\n",
      "Test email has been subscribed to list containing ewslet\n"
     ]
    }
   ],
   "source": [
    "# check if emailtest is subscribed to list containing project number\n",
    "\n",
    "url = f\"https://a.klaviyo.com/api/profiles/{testProfileId}/lists/\"\n",
    "\n",
    "headers = {\n",
    "   \"accept\": \"application/json\",\n",
    "   \"revision\": \"2022-10-17\",\n",
    "   \"Authorization\": f\"Klaviyo-API-Key {tonyApi}\"\n",
    "}\n",
    "\n",
    "response_lists = requests.get(url, headers=headers)\n",
    "\n",
    "lists_dict = response_lists.json()\n",
    "\n",
    "profile_lists = []\n",
    "\n",
    "for value in lists_dict[\"data\"]:\n",
    "    lists_list = value[\"attributes\"][\"name\"] \n",
    "    profile_lists.append(lists_list)\n",
    "\n",
    "print(profile_lists)\n",
    "\n",
    "if any(projectNumber in value for value in profile_lists):\n",
    "    print(f\"Test email has been subscribed to list containing {projectNumber}\")\n",
    "else: \n",
    "    print(f\"Error - not subscribed to a list with project number {projectNumber}\")\n",
    "\n",
    "# check if emailtest has received email from flow containing project number\n",
    "# return ALL SYSTEMS GREEN\n",
    "\n",
    "# note : \"https://a.klaviyo.com/api/v2/people/search?api_key={key}&email={email}\""
   ]
  },
  {
   "cell_type": "code",
   "execution_count": 382,
   "id": "336cf575",
   "metadata": {},
   "outputs": [
    {
     "name": "stdout",
     "output_type": "stream",
     "text": [
      "Flow with ewslet is active\n"
     ]
    }
   ],
   "source": [
    "#Check if project flow is active and sending emails to emailTest\n",
    "\n",
    "url = \"https://a.klaviyo.com/api/flows/\"\n",
    "\n",
    "headers = {\n",
    "    \"accept\": \"application/json\",\n",
    "    \"revision\": \"2022-10-17\",\n",
    "    \"Authorization\": f\"Klaviyo-API-Key {tonyApi}\"\n",
    "}\n",
    "\n",
    "response = requests.get(url, headers=headers)\n",
    "\n",
    "default_flow_id_dict = response.json()\n",
    "\n",
    "flow_list = []\n",
    "\n",
    "for value in default_flow_id_dict[\"data\"]:\n",
    "    listing = value[\"attributes\"][\"name\"]\n",
    "    flow_list.append(listing)\n",
    "\n",
    "#flow dict    \n",
    "\n",
    "flow_dict = {} \n",
    "\n",
    "for value in default_flow_id_dict[\"data\"]:\n",
    "    flow_dict.update({value[\"id\"]: value[\"attributes\"][\"name\"]})\n",
    "    \n",
    "def search(myDict, lookup):\n",
    "    for key, value in myDict.items():\n",
    "         if lookup in value:\n",
    "            return key\n",
    "\n",
    "flowId = search(flow_dict, projectNumber)\n",
    "\n",
    "########    \n",
    "\n",
    "matching=\"\"\n",
    "\n",
    "# check if account has flow with project number\n",
    "if any(projectNumber in value for value in flow_list):\n",
    "    matching = [value for value in flow_list if projectNumber in value]\n",
    "else:\n",
    "    print(f\"Error - no flow with project number {projectNumber}\")\n",
    "\n",
    "matching_cleaned = str(matching)[2:-2]\n",
    "\n",
    "# check if flow is ACTIVE\n",
    "\n",
    "flow_status = \"\"\n",
    "\n",
    "for value in default_flow_id_dict[\"data\"]:\n",
    "    if value[\"attributes\"][\"name\"] == matching_cleaned:\n",
    "        flow_status = value[\"attributes\"][\"status\"]\n",
    "        break\n",
    "    else:\n",
    "        flow_status = \"no\"\n",
    "                       \n",
    "if flow_status == \"live\":\n",
    "    print(f\"Flow with {projectNumber} is active\")\n",
    "else:\n",
    "    print(f\"Error - no ACTIVE flow with project number {projectNumber}\")\n",
    "\n"
   ]
  },
  {
   "cell_type": "code",
   "execution_count": 384,
   "id": "88aa87f9",
   "metadata": {},
   "outputs": [
    {
     "name": "stdout",
     "output_type": "stream",
     "text": [
      "The email test was received by tony+testbot2@j7media.com at 2023-01-12 20:46:19+00:00\n"
     ]
    }
   ],
   "source": [
    "#get events for testProfileId for flowId\n",
    "\n",
    "url = \"https://a.klaviyo.com/api/events/\"\n",
    "\n",
    "headers = {\n",
    "    \"accept\": \"application/json\",\n",
    "    \"revision\": \"2022-10-17\",\n",
    "    \"Authorization\": f\"Klaviyo-API-Key {tonyApi}\"\n",
    "}\n",
    "\n",
    "response = requests.get(url, headers=headers)\n",
    "\n",
    "event_dict = response.json()\n",
    "\n",
    "event_list = {}\n",
    "\n",
    "for value in event_dict[\"data\"]:\n",
    "    event_list.update({value[\"attributes\"][\"profile_id\"]: value[\"attributes\"][\"datetime\"]})\n",
    "\n",
    "lastEvent = list(event_list.items())[0]\n",
    "\n",
    "if lastEvent[0] == testProfileId:\n",
    "    print(f\"The test email was received by {emailTest} on {lastEvent[1]}\")\n",
    "else:\n",
    "    print(f\"The test email was never received by {emailTest}\")\n"
   ]
  },
  {
   "cell_type": "code",
   "execution_count": 321,
   "id": "ebbb5b6a",
   "metadata": {},
   "outputs": [
    {
     "name": "stdout",
     "output_type": "stream",
     "text": [
      "{'hello': '1', 'bye': '2', 'U437bU': '211142-CCV-PS flows PS1'}\n",
      "None\n"
     ]
    }
   ],
   "source": [
    "mydict = {}\n",
    "mydict = {\n",
    "    \"hello\": \"1\",\n",
    "    \"bye\": \"2\"\n",
    "}\n",
    "\n",
    "mydict.update({'U437bU': '211142-CCV-PS flows PS1'})\n",
    "\n",
    "print(mydict)\n",
    "def search(myDict, lookup):\n",
    "    for key, value in myDict.items():\n",
    "        for v in value:\n",
    "            if lookup in v:\n",
    "                return key\n",
    "            \n",
    "print(search(mydict, str(\"21\")))"
   ]
  },
  {
   "cell_type": "code",
   "execution_count": 331,
   "id": "c83ec7bd",
   "metadata": {},
   "outputs": [
    {
     "data": {
      "text/plain": [
       "'age'"
      ]
     },
     "execution_count": 331,
     "metadata": {},
     "output_type": "execute_result"
    }
   ],
   "source": [
    "myDict = {'age': '12', 'address': '34 Main Street, 212 First Avenue',\n",
    "          'firstName': ['Alan', 'Mary-Ann'], 'lastName': ['Stone', 'Lee']}\n",
    "\n",
    "def search(myDict, lookup):\n",
    "    for key, value in myDict.items():\n",
    "#        for v in value:\n",
    "         if lookup in value:\n",
    "            return key\n",
    "\n",
    "search(myDict, '12')"
   ]
  }
 ],
 "metadata": {
  "kernelspec": {
   "display_name": "Python 3 (ipykernel)",
   "language": "python",
   "name": "python3"
  },
  "language_info": {
   "codemirror_mode": {
    "name": "ipython",
    "version": 3
   },
   "file_extension": ".py",
   "mimetype": "text/x-python",
   "name": "python",
   "nbconvert_exporter": "python",
   "pygments_lexer": "ipython3",
   "version": "3.9.15"
  }
 },
 "nbformat": 4,
 "nbformat_minor": 5
}
